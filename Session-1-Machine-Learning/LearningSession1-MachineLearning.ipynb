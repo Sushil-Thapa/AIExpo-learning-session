{
 "cells": [
  {
   "cell_type": "code",
   "execution_count": 1,
   "metadata": {},
   "outputs": [],
   "source": [
    "import os"
   ]
  },
  {
   "cell_type": "code",
   "execution_count": 2,
   "metadata": {},
   "outputs": [],
   "source": [
    "import numpy as np\n",
    "import pandas as pd\n",
    "import matplotlib.pyplot as plt"
   ]
  },
  {
   "cell_type": "code",
   "execution_count": 3,
   "metadata": {},
   "outputs": [],
   "source": [
    "from surprise import Reader\n",
    "from surprise import Dataset\n",
    "\n",
    "from surprise import SVD\n",
    "from surprise import KNNBaseline, KNNWithMeans\n",
    "\n",
    "from surprise.accuracy import rmse\n",
    "from surprise import accuracy\n",
    "from surprise.model_selection import train_test_split"
   ]
  },
  {
   "cell_type": "markdown",
   "metadata": {},
   "source": [
    "## Prepare Data\n",
    "\n",
    "[Source](https://grouplens.org/datasets/movielens/latest/)"
   ]
  },
  {
   "cell_type": "code",
   "execution_count": 4,
   "metadata": {},
   "outputs": [],
   "source": [
    "DATA_DIR = 'data/ml-latest-small/'"
   ]
  },
  {
   "cell_type": "code",
   "execution_count": 5,
   "metadata": {},
   "outputs": [
    {
     "data": {
      "text/plain": [
       "['ratings.csv', 'README.txt', 'links.csv', 'tags.csv', 'movies.csv']"
      ]
     },
     "execution_count": 5,
     "metadata": {},
     "output_type": "execute_result"
    }
   ],
   "source": [
    "os.listdir(DATA_DIR)"
   ]
  },
  {
   "cell_type": "code",
   "execution_count": 6,
   "metadata": {},
   "outputs": [],
   "source": [
    "rdf = pd.read_csv(os.path.join(DATA_DIR, 'ratings.csv'), usecols=['userId', 'movieId', 'rating'])"
   ]
  },
  {
   "cell_type": "code",
   "execution_count": 7,
   "metadata": {},
   "outputs": [
    {
     "data": {
      "text/html": [
       "<div>\n",
       "<style scoped>\n",
       "    .dataframe tbody tr th:only-of-type {\n",
       "        vertical-align: middle;\n",
       "    }\n",
       "\n",
       "    .dataframe tbody tr th {\n",
       "        vertical-align: top;\n",
       "    }\n",
       "\n",
       "    .dataframe thead th {\n",
       "        text-align: right;\n",
       "    }\n",
       "</style>\n",
       "<table border=\"1\" class=\"dataframe\">\n",
       "  <thead>\n",
       "    <tr style=\"text-align: right;\">\n",
       "      <th></th>\n",
       "      <th>userId</th>\n",
       "      <th>movieId</th>\n",
       "      <th>rating</th>\n",
       "    </tr>\n",
       "  </thead>\n",
       "  <tbody>\n",
       "    <tr>\n",
       "      <th>0</th>\n",
       "      <td>1</td>\n",
       "      <td>1</td>\n",
       "      <td>4.0</td>\n",
       "    </tr>\n",
       "    <tr>\n",
       "      <th>1</th>\n",
       "      <td>1</td>\n",
       "      <td>3</td>\n",
       "      <td>4.0</td>\n",
       "    </tr>\n",
       "    <tr>\n",
       "      <th>2</th>\n",
       "      <td>1</td>\n",
       "      <td>6</td>\n",
       "      <td>4.0</td>\n",
       "    </tr>\n",
       "    <tr>\n",
       "      <th>3</th>\n",
       "      <td>1</td>\n",
       "      <td>47</td>\n",
       "      <td>5.0</td>\n",
       "    </tr>\n",
       "    <tr>\n",
       "      <th>4</th>\n",
       "      <td>1</td>\n",
       "      <td>50</td>\n",
       "      <td>5.0</td>\n",
       "    </tr>\n",
       "  </tbody>\n",
       "</table>\n",
       "</div>"
      ],
      "text/plain": [
       "   userId  movieId  rating\n",
       "0       1        1     4.0\n",
       "1       1        3     4.0\n",
       "2       1        6     4.0\n",
       "3       1       47     5.0\n",
       "4       1       50     5.0"
      ]
     },
     "execution_count": 7,
     "metadata": {},
     "output_type": "execute_result"
    }
   ],
   "source": [
    "rdf.head()"
   ]
  },
  {
   "cell_type": "code",
   "execution_count": 8,
   "metadata": {},
   "outputs": [],
   "source": [
    "mdf = pd.read_csv(os.path.join(DATA_DIR, 'movies.csv'))"
   ]
  },
  {
   "cell_type": "code",
   "execution_count": 9,
   "metadata": {},
   "outputs": [
    {
     "data": {
      "text/html": [
       "<div>\n",
       "<style scoped>\n",
       "    .dataframe tbody tr th:only-of-type {\n",
       "        vertical-align: middle;\n",
       "    }\n",
       "\n",
       "    .dataframe tbody tr th {\n",
       "        vertical-align: top;\n",
       "    }\n",
       "\n",
       "    .dataframe thead th {\n",
       "        text-align: right;\n",
       "    }\n",
       "</style>\n",
       "<table border=\"1\" class=\"dataframe\">\n",
       "  <thead>\n",
       "    <tr style=\"text-align: right;\">\n",
       "      <th></th>\n",
       "      <th>movieId</th>\n",
       "      <th>title</th>\n",
       "      <th>genres</th>\n",
       "    </tr>\n",
       "  </thead>\n",
       "  <tbody>\n",
       "    <tr>\n",
       "      <th>0</th>\n",
       "      <td>1</td>\n",
       "      <td>Toy Story (1995)</td>\n",
       "      <td>Adventure|Animation|Children|Comedy|Fantasy</td>\n",
       "    </tr>\n",
       "    <tr>\n",
       "      <th>1</th>\n",
       "      <td>2</td>\n",
       "      <td>Jumanji (1995)</td>\n",
       "      <td>Adventure|Children|Fantasy</td>\n",
       "    </tr>\n",
       "    <tr>\n",
       "      <th>2</th>\n",
       "      <td>3</td>\n",
       "      <td>Grumpier Old Men (1995)</td>\n",
       "      <td>Comedy|Romance</td>\n",
       "    </tr>\n",
       "    <tr>\n",
       "      <th>3</th>\n",
       "      <td>4</td>\n",
       "      <td>Waiting to Exhale (1995)</td>\n",
       "      <td>Comedy|Drama|Romance</td>\n",
       "    </tr>\n",
       "    <tr>\n",
       "      <th>4</th>\n",
       "      <td>5</td>\n",
       "      <td>Father of the Bride Part II (1995)</td>\n",
       "      <td>Comedy</td>\n",
       "    </tr>\n",
       "  </tbody>\n",
       "</table>\n",
       "</div>"
      ],
      "text/plain": [
       "   movieId                               title  \\\n",
       "0        1                    Toy Story (1995)   \n",
       "1        2                      Jumanji (1995)   \n",
       "2        3             Grumpier Old Men (1995)   \n",
       "3        4            Waiting to Exhale (1995)   \n",
       "4        5  Father of the Bride Part II (1995)   \n",
       "\n",
       "                                        genres  \n",
       "0  Adventure|Animation|Children|Comedy|Fantasy  \n",
       "1                   Adventure|Children|Fantasy  \n",
       "2                               Comedy|Romance  \n",
       "3                         Comedy|Drama|Romance  \n",
       "4                                       Comedy  "
      ]
     },
     "execution_count": 9,
     "metadata": {},
     "output_type": "execute_result"
    }
   ],
   "source": [
    "mdf.head()"
   ]
  },
  {
   "cell_type": "code",
   "execution_count": 10,
   "metadata": {},
   "outputs": [],
   "source": [
    "rmdf = pd.merge(rdf, mdf, on='movieId', how='left')"
   ]
  },
  {
   "cell_type": "code",
   "execution_count": 11,
   "metadata": {},
   "outputs": [
    {
     "data": {
      "text/plain": [
       "movieId  title                                                         \n",
       "53355    Sun Alley (Sonnenallee) (1999)                                    5.0\n",
       "96608    Runaway Brain (1995)                                              5.0\n",
       "33138    Palindromes (2004)                                                5.0\n",
       "128087   Trinity and Sartana Are Coming (1972)                             5.0\n",
       "3851     I'm the One That I Want (2000)                                    5.0\n",
       "160644   Indignation (2016)                                                5.0\n",
       "126921   The Fox and the Hound 2 (2006)                                    5.0\n",
       "3939     Slumber Party Massacre II (1987)                                  5.0\n",
       "3940     Slumber Party Massacre III (1990)                                 5.0\n",
       "3941     Sorority House Massacre (1986)                                    5.0\n",
       "126088   A Flintstones Christmas Carol (1994)                              5.0\n",
       "3942     Sorority House Massacre II (1990)                                 5.0\n",
       "3951     Two Family House (2000)                                           5.0\n",
       "159811   The Bremen Town Musicians (1969)                                  5.0\n",
       "124851   Delirium (2014)                                                   5.0\n",
       "124404   Snowflake, the White Gorilla (2011)                               5.0\n",
       "7096     Rivers and Tides (2001)                                           5.0\n",
       "31522    Marriage of Maria Braun, The (Ehe der Maria Braun, Die) (1979)    5.0\n",
       "162344   Tom Segura: Mostly Stories (2016)                                 5.0\n",
       "162414   Moonlight                                                         5.0\n",
       "Name: rating, dtype: float64"
      ]
     },
     "execution_count": 11,
     "metadata": {},
     "output_type": "execute_result"
    }
   ],
   "source": [
    "rmdf.groupby(by=['movieId', 'title'])['rating'].mean().sort_values(ascending=False).head(20)"
   ]
  },
  {
   "cell_type": "code",
   "execution_count": 12,
   "metadata": {},
   "outputs": [],
   "source": [
    "reader = Reader(rating_scale=(0, 6))\n",
    "data = Dataset.load_from_df(rmdf[['userId', 'movieId', 'rating']], reader)"
   ]
  },
  {
   "cell_type": "code",
   "execution_count": 13,
   "metadata": {},
   "outputs": [],
   "source": [
    "trainset, testset = train_test_split(data, test_size=0.25, random_state=42)"
   ]
  },
  {
   "cell_type": "markdown",
   "metadata": {},
   "source": [
    "## Train model"
   ]
  },
  {
   "cell_type": "code",
   "execution_count": 14,
   "metadata": {},
   "outputs": [],
   "source": [
    "algo = SVD()"
   ]
  },
  {
   "cell_type": "code",
   "execution_count": 15,
   "metadata": {},
   "outputs": [
    {
     "data": {
      "text/plain": [
       "<surprise.prediction_algorithms.matrix_factorization.SVD at 0x7f8e10737a20>"
      ]
     },
     "execution_count": 15,
     "metadata": {},
     "output_type": "execute_result"
    }
   ],
   "source": [
    "algo.fit(trainset)"
   ]
  },
  {
   "cell_type": "markdown",
   "metadata": {},
   "source": [
    "## Test Model"
   ]
  },
  {
   "cell_type": "code",
   "execution_count": 16,
   "metadata": {},
   "outputs": [
    {
     "name": "stdout",
     "output_type": "stream",
     "text": [
      "RMSE: 0.8824\n"
     ]
    },
    {
     "data": {
      "text/plain": [
       "0.8823933589555355"
      ]
     },
     "execution_count": 16,
     "metadata": {},
     "output_type": "execute_result"
    }
   ],
   "source": [
    "test_pred = algo.test(testset)\n",
    "\n",
    "accuracy.rmse(test_pred, verbose=True)"
   ]
  },
  {
   "cell_type": "markdown",
   "metadata": {},
   "source": [
    "## Use Model (Make Predictions)"
   ]
  },
  {
   "cell_type": "code",
   "execution_count": 17,
   "metadata": {},
   "outputs": [],
   "source": [
    "user_id = 100"
   ]
  },
  {
   "cell_type": "code",
   "execution_count": 18,
   "metadata": {},
   "outputs": [],
   "source": [
    "user_movies = rmdf.query(f'userId == {user_id}')"
   ]
  },
  {
   "cell_type": "code",
   "execution_count": 19,
   "metadata": {},
   "outputs": [
    {
     "data": {
      "text/plain": [
       "(148, 5)"
      ]
     },
     "execution_count": 19,
     "metadata": {},
     "output_type": "execute_result"
    }
   ],
   "source": [
    "user_movies.shape"
   ]
  },
  {
   "cell_type": "code",
   "execution_count": 20,
   "metadata": {},
   "outputs": [
    {
     "data": {
      "text/html": [
       "<div>\n",
       "<style scoped>\n",
       "    .dataframe tbody tr th:only-of-type {\n",
       "        vertical-align: middle;\n",
       "    }\n",
       "\n",
       "    .dataframe tbody tr th {\n",
       "        vertical-align: top;\n",
       "    }\n",
       "\n",
       "    .dataframe thead th {\n",
       "        text-align: right;\n",
       "    }\n",
       "</style>\n",
       "<table border=\"1\" class=\"dataframe\">\n",
       "  <thead>\n",
       "    <tr style=\"text-align: right;\">\n",
       "      <th></th>\n",
       "      <th>userId</th>\n",
       "      <th>movieId</th>\n",
       "      <th>rating</th>\n",
       "      <th>title</th>\n",
       "      <th>genres</th>\n",
       "    </tr>\n",
       "  </thead>\n",
       "  <tbody>\n",
       "    <tr>\n",
       "      <th>15386</th>\n",
       "      <td>100</td>\n",
       "      <td>1958</td>\n",
       "      <td>5.0</td>\n",
       "      <td>Terms of Endearment (1983)</td>\n",
       "      <td>Comedy|Drama</td>\n",
       "    </tr>\n",
       "    <tr>\n",
       "      <th>15401</th>\n",
       "      <td>100</td>\n",
       "      <td>2423</td>\n",
       "      <td>5.0</td>\n",
       "      <td>Christmas Vacation (National Lampoon's Christm...</td>\n",
       "      <td>Comedy</td>\n",
       "    </tr>\n",
       "    <tr>\n",
       "      <th>15437</th>\n",
       "      <td>100</td>\n",
       "      <td>5620</td>\n",
       "      <td>5.0</td>\n",
       "      <td>Sweet Home Alabama (2002)</td>\n",
       "      <td>Comedy|Romance</td>\n",
       "    </tr>\n",
       "    <tr>\n",
       "      <th>15355</th>\n",
       "      <td>100</td>\n",
       "      <td>1101</td>\n",
       "      <td>5.0</td>\n",
       "      <td>Top Gun (1986)</td>\n",
       "      <td>Action|Romance</td>\n",
       "    </tr>\n",
       "    <tr>\n",
       "      <th>15425</th>\n",
       "      <td>100</td>\n",
       "      <td>4041</td>\n",
       "      <td>5.0</td>\n",
       "      <td>Officer and a Gentleman, An (1982)</td>\n",
       "      <td>Drama|Romance</td>\n",
       "    </tr>\n",
       "    <tr>\n",
       "      <th>15370</th>\n",
       "      <td>100</td>\n",
       "      <td>1307</td>\n",
       "      <td>4.5</td>\n",
       "      <td>When Harry Met Sally... (1989)</td>\n",
       "      <td>Comedy|Romance</td>\n",
       "    </tr>\n",
       "    <tr>\n",
       "      <th>15384</th>\n",
       "      <td>100</td>\n",
       "      <td>1912</td>\n",
       "      <td>4.5</td>\n",
       "      <td>Out of Sight (1998)</td>\n",
       "      <td>Comedy|Crime|Drama|Romance|Thriller</td>\n",
       "    </tr>\n",
       "    <tr>\n",
       "      <th>15382</th>\n",
       "      <td>100</td>\n",
       "      <td>1777</td>\n",
       "      <td>4.5</td>\n",
       "      <td>Wedding Singer, The (1998)</td>\n",
       "      <td>Comedy|Romance</td>\n",
       "    </tr>\n",
       "    <tr>\n",
       "      <th>15381</th>\n",
       "      <td>100</td>\n",
       "      <td>1680</td>\n",
       "      <td>4.5</td>\n",
       "      <td>Sliding Doors (1998)</td>\n",
       "      <td>Drama|Romance</td>\n",
       "    </tr>\n",
       "    <tr>\n",
       "      <th>15380</th>\n",
       "      <td>100</td>\n",
       "      <td>1678</td>\n",
       "      <td>4.5</td>\n",
       "      <td>Joy Luck Club, The (1993)</td>\n",
       "      <td>Drama|Romance</td>\n",
       "    </tr>\n",
       "  </tbody>\n",
       "</table>\n",
       "</div>"
      ],
      "text/plain": [
       "       userId  movieId  rating  \\\n",
       "15386     100     1958     5.0   \n",
       "15401     100     2423     5.0   \n",
       "15437     100     5620     5.0   \n",
       "15355     100     1101     5.0   \n",
       "15425     100     4041     5.0   \n",
       "15370     100     1307     4.5   \n",
       "15384     100     1912     4.5   \n",
       "15382     100     1777     4.5   \n",
       "15381     100     1680     4.5   \n",
       "15380     100     1678     4.5   \n",
       "\n",
       "                                                   title  \\\n",
       "15386                         Terms of Endearment (1983)   \n",
       "15401  Christmas Vacation (National Lampoon's Christm...   \n",
       "15437                          Sweet Home Alabama (2002)   \n",
       "15355                                     Top Gun (1986)   \n",
       "15425                 Officer and a Gentleman, An (1982)   \n",
       "15370                     When Harry Met Sally... (1989)   \n",
       "15384                                Out of Sight (1998)   \n",
       "15382                         Wedding Singer, The (1998)   \n",
       "15381                               Sliding Doors (1998)   \n",
       "15380                          Joy Luck Club, The (1993)   \n",
       "\n",
       "                                    genres  \n",
       "15386                         Comedy|Drama  \n",
       "15401                               Comedy  \n",
       "15437                       Comedy|Romance  \n",
       "15355                       Action|Romance  \n",
       "15425                        Drama|Romance  \n",
       "15370                       Comedy|Romance  \n",
       "15384  Comedy|Crime|Drama|Romance|Thriller  \n",
       "15382                       Comedy|Romance  \n",
       "15381                        Drama|Romance  \n",
       "15380                        Drama|Romance  "
      ]
     },
     "execution_count": 20,
     "metadata": {},
     "output_type": "execute_result"
    }
   ],
   "source": [
    "user_movies.sort_values(by='rating', ascending=False).head(10)"
   ]
  },
  {
   "cell_type": "code",
   "execution_count": 21,
   "metadata": {},
   "outputs": [
    {
     "data": {
      "text/html": [
       "<div>\n",
       "<style scoped>\n",
       "    .dataframe tbody tr th:only-of-type {\n",
       "        vertical-align: middle;\n",
       "    }\n",
       "\n",
       "    .dataframe tbody tr th {\n",
       "        vertical-align: top;\n",
       "    }\n",
       "\n",
       "    .dataframe thead th {\n",
       "        text-align: right;\n",
       "    }\n",
       "</style>\n",
       "<table border=\"1\" class=\"dataframe\">\n",
       "  <thead>\n",
       "    <tr style=\"text-align: right;\">\n",
       "      <th></th>\n",
       "      <th>userId</th>\n",
       "      <th>movieId</th>\n",
       "      <th>rating</th>\n",
       "      <th>title</th>\n",
       "      <th>genres</th>\n",
       "    </tr>\n",
       "  </thead>\n",
       "  <tbody>\n",
       "    <tr>\n",
       "      <th>15359</th>\n",
       "      <td>100</td>\n",
       "      <td>1220</td>\n",
       "      <td>3.0</td>\n",
       "      <td>Blues Brothers, The (1980)</td>\n",
       "      <td>Action|Comedy|Musical</td>\n",
       "    </tr>\n",
       "    <tr>\n",
       "      <th>15335</th>\n",
       "      <td>100</td>\n",
       "      <td>594</td>\n",
       "      <td>3.0</td>\n",
       "      <td>Snow White and the Seven Dwarfs (1937)</td>\n",
       "      <td>Animation|Children|Drama|Fantasy|Musical</td>\n",
       "    </tr>\n",
       "    <tr>\n",
       "      <th>15429</th>\n",
       "      <td>100</td>\n",
       "      <td>4571</td>\n",
       "      <td>3.0</td>\n",
       "      <td>Bill &amp; Ted's Excellent Adventure (1989)</td>\n",
       "      <td>Adventure|Comedy|Sci-Fi</td>\n",
       "    </tr>\n",
       "    <tr>\n",
       "      <th>15418</th>\n",
       "      <td>100</td>\n",
       "      <td>3499</td>\n",
       "      <td>2.0</td>\n",
       "      <td>Misery (1990)</td>\n",
       "      <td>Drama|Horror|Thriller</td>\n",
       "    </tr>\n",
       "    <tr>\n",
       "      <th>15352</th>\n",
       "      <td>100</td>\n",
       "      <td>1037</td>\n",
       "      <td>2.0</td>\n",
       "      <td>Lawnmower Man, The (1992)</td>\n",
       "      <td>Action|Horror|Sci-Fi|Thriller</td>\n",
       "    </tr>\n",
       "    <tr>\n",
       "      <th>15405</th>\n",
       "      <td>100</td>\n",
       "      <td>2513</td>\n",
       "      <td>2.0</td>\n",
       "      <td>Pet Sematary (1989)</td>\n",
       "      <td>Horror</td>\n",
       "    </tr>\n",
       "    <tr>\n",
       "      <th>15410</th>\n",
       "      <td>100</td>\n",
       "      <td>2710</td>\n",
       "      <td>2.0</td>\n",
       "      <td>Blair Witch Project, The (1999)</td>\n",
       "      <td>Drama|Horror|Thriller</td>\n",
       "    </tr>\n",
       "    <tr>\n",
       "      <th>15367</th>\n",
       "      <td>100</td>\n",
       "      <td>1288</td>\n",
       "      <td>2.0</td>\n",
       "      <td>This Is Spinal Tap (1984)</td>\n",
       "      <td>Comedy</td>\n",
       "    </tr>\n",
       "    <tr>\n",
       "      <th>15304</th>\n",
       "      <td>100</td>\n",
       "      <td>19</td>\n",
       "      <td>1.0</td>\n",
       "      <td>Ace Ventura: When Nature Calls (1995)</td>\n",
       "      <td>Comedy</td>\n",
       "    </tr>\n",
       "    <tr>\n",
       "      <th>15315</th>\n",
       "      <td>100</td>\n",
       "      <td>235</td>\n",
       "      <td>1.0</td>\n",
       "      <td>Ed Wood (1994)</td>\n",
       "      <td>Comedy|Drama</td>\n",
       "    </tr>\n",
       "  </tbody>\n",
       "</table>\n",
       "</div>"
      ],
      "text/plain": [
       "       userId  movieId  rating                                    title  \\\n",
       "15359     100     1220     3.0               Blues Brothers, The (1980)   \n",
       "15335     100      594     3.0   Snow White and the Seven Dwarfs (1937)   \n",
       "15429     100     4571     3.0  Bill & Ted's Excellent Adventure (1989)   \n",
       "15418     100     3499     2.0                            Misery (1990)   \n",
       "15352     100     1037     2.0                Lawnmower Man, The (1992)   \n",
       "15405     100     2513     2.0                      Pet Sematary (1989)   \n",
       "15410     100     2710     2.0          Blair Witch Project, The (1999)   \n",
       "15367     100     1288     2.0                This Is Spinal Tap (1984)   \n",
       "15304     100       19     1.0    Ace Ventura: When Nature Calls (1995)   \n",
       "15315     100      235     1.0                           Ed Wood (1994)   \n",
       "\n",
       "                                         genres  \n",
       "15359                     Action|Comedy|Musical  \n",
       "15335  Animation|Children|Drama|Fantasy|Musical  \n",
       "15429                   Adventure|Comedy|Sci-Fi  \n",
       "15418                     Drama|Horror|Thriller  \n",
       "15352             Action|Horror|Sci-Fi|Thriller  \n",
       "15405                                    Horror  \n",
       "15410                     Drama|Horror|Thriller  \n",
       "15367                                    Comedy  \n",
       "15304                                    Comedy  \n",
       "15315                              Comedy|Drama  "
      ]
     },
     "execution_count": 21,
     "metadata": {},
     "output_type": "execute_result"
    }
   ],
   "source": [
    "user_movies.sort_values(by='rating', ascending=False).tail(10)"
   ]
  },
  {
   "cell_type": "code",
   "execution_count": 22,
   "metadata": {},
   "outputs": [],
   "source": [
    "unwatched_movies = [m for m in rdf['movieId'].unique() if m not in user_movies['movieId'].unique()]"
   ]
  },
  {
   "cell_type": "code",
   "execution_count": 23,
   "metadata": {},
   "outputs": [],
   "source": [
    "scores = []\n",
    "for m in unwatched_movies:\n",
    "    score = algo.predict(user_id, m).est\n",
    "    scores.append((m, score))"
   ]
  },
  {
   "cell_type": "code",
   "execution_count": 24,
   "metadata": {},
   "outputs": [],
   "source": [
    "sdf = pd.DataFrame(scores, columns=['movieId', 'Score'])"
   ]
  },
  {
   "cell_type": "code",
   "execution_count": 25,
   "metadata": {},
   "outputs": [],
   "source": [
    "sdf = sdf.merge(mdf, on='movieId', how='left')"
   ]
  },
  {
   "cell_type": "code",
   "execution_count": 26,
   "metadata": {},
   "outputs": [
    {
     "data": {
      "text/html": [
       "<div>\n",
       "<style scoped>\n",
       "    .dataframe tbody tr th:only-of-type {\n",
       "        vertical-align: middle;\n",
       "    }\n",
       "\n",
       "    .dataframe tbody tr th {\n",
       "        vertical-align: top;\n",
       "    }\n",
       "\n",
       "    .dataframe thead th {\n",
       "        text-align: right;\n",
       "    }\n",
       "</style>\n",
       "<table border=\"1\" class=\"dataframe\">\n",
       "  <thead>\n",
       "    <tr style=\"text-align: right;\">\n",
       "      <th></th>\n",
       "      <th>movieId</th>\n",
       "      <th>Score</th>\n",
       "      <th>title</th>\n",
       "      <th>genres</th>\n",
       "    </tr>\n",
       "  </thead>\n",
       "  <tbody>\n",
       "    <tr>\n",
       "      <th>316</th>\n",
       "      <td>1250</td>\n",
       "      <td>4.685485</td>\n",
       "      <td>Bridge on the River Kwai, The (1957)</td>\n",
       "      <td>Adventure|Drama|War</td>\n",
       "    </tr>\n",
       "    <tr>\n",
       "      <th>297</th>\n",
       "      <td>904</td>\n",
       "      <td>4.681891</td>\n",
       "      <td>Rear Window (1954)</td>\n",
       "      <td>Mystery|Thriller</td>\n",
       "    </tr>\n",
       "    <tr>\n",
       "      <th>680</th>\n",
       "      <td>4993</td>\n",
       "      <td>4.654358</td>\n",
       "      <td>Lord of the Rings: The Fellowship of the Ring,...</td>\n",
       "      <td>Adventure|Fantasy</td>\n",
       "    </tr>\n",
       "    <tr>\n",
       "      <th>203</th>\n",
       "      <td>318</td>\n",
       "      <td>4.633669</td>\n",
       "      <td>Shawshank Redemption, The (1994)</td>\n",
       "      <td>Crime|Drama</td>\n",
       "    </tr>\n",
       "    <tr>\n",
       "      <th>690</th>\n",
       "      <td>5952</td>\n",
       "      <td>4.617059</td>\n",
       "      <td>Lord of the Rings: The Two Towers, The (2002)</td>\n",
       "      <td>Adventure|Fantasy</td>\n",
       "    </tr>\n",
       "    <tr>\n",
       "      <th>12</th>\n",
       "      <td>260</td>\n",
       "      <td>4.612151</td>\n",
       "      <td>Star Wars: Episode IV - A New Hope (1977)</td>\n",
       "      <td>Action|Adventure|Sci-Fi</td>\n",
       "    </tr>\n",
       "    <tr>\n",
       "      <th>699</th>\n",
       "      <td>7153</td>\n",
       "      <td>4.602432</td>\n",
       "      <td>Lord of the Rings: The Return of the King, The...</td>\n",
       "      <td>Action|Adventure|Drama|Fantasy</td>\n",
       "    </tr>\n",
       "    <tr>\n",
       "      <th>688</th>\n",
       "      <td>5618</td>\n",
       "      <td>4.601907</td>\n",
       "      <td>Spirited Away (Sen to Chihiro no kamikakushi) ...</td>\n",
       "      <td>Adventure|Animation|Fantasy</td>\n",
       "    </tr>\n",
       "    <tr>\n",
       "      <th>295</th>\n",
       "      <td>898</td>\n",
       "      <td>4.600192</td>\n",
       "      <td>Philadelphia Story, The (1940)</td>\n",
       "      <td>Comedy|Drama|Romance</td>\n",
       "    </tr>\n",
       "    <tr>\n",
       "      <th>1017</th>\n",
       "      <td>1252</td>\n",
       "      <td>4.596181</td>\n",
       "      <td>Chinatown (1974)</td>\n",
       "      <td>Crime|Film-Noir|Mystery|Thriller</td>\n",
       "    </tr>\n",
       "  </tbody>\n",
       "</table>\n",
       "</div>"
      ],
      "text/plain": [
       "      movieId     Score                                              title  \\\n",
       "316      1250  4.685485               Bridge on the River Kwai, The (1957)   \n",
       "297       904  4.681891                                 Rear Window (1954)   \n",
       "680      4993  4.654358  Lord of the Rings: The Fellowship of the Ring,...   \n",
       "203       318  4.633669                   Shawshank Redemption, The (1994)   \n",
       "690      5952  4.617059      Lord of the Rings: The Two Towers, The (2002)   \n",
       "12        260  4.612151          Star Wars: Episode IV - A New Hope (1977)   \n",
       "699      7153  4.602432  Lord of the Rings: The Return of the King, The...   \n",
       "688      5618  4.601907  Spirited Away (Sen to Chihiro no kamikakushi) ...   \n",
       "295       898  4.600192                     Philadelphia Story, The (1940)   \n",
       "1017     1252  4.596181                                   Chinatown (1974)   \n",
       "\n",
       "                                genres  \n",
       "316                Adventure|Drama|War  \n",
       "297                   Mystery|Thriller  \n",
       "680                  Adventure|Fantasy  \n",
       "203                        Crime|Drama  \n",
       "690                  Adventure|Fantasy  \n",
       "12             Action|Adventure|Sci-Fi  \n",
       "699     Action|Adventure|Drama|Fantasy  \n",
       "688        Adventure|Animation|Fantasy  \n",
       "295               Comedy|Drama|Romance  \n",
       "1017  Crime|Film-Noir|Mystery|Thriller  "
      ]
     },
     "execution_count": 26,
     "metadata": {},
     "output_type": "execute_result"
    }
   ],
   "source": [
    "sdf.sort_values(by='Score', ascending=False).head(10)"
   ]
  },
  {
   "cell_type": "code",
   "execution_count": 27,
   "metadata": {},
   "outputs": [
    {
     "data": {
      "text/html": [
       "<div>\n",
       "<style scoped>\n",
       "    .dataframe tbody tr th:only-of-type {\n",
       "        vertical-align: middle;\n",
       "    }\n",
       "\n",
       "    .dataframe tbody tr th {\n",
       "        vertical-align: top;\n",
       "    }\n",
       "\n",
       "    .dataframe thead th {\n",
       "        text-align: right;\n",
       "    }\n",
       "</style>\n",
       "<table border=\"1\" class=\"dataframe\">\n",
       "  <thead>\n",
       "    <tr style=\"text-align: right;\">\n",
       "      <th></th>\n",
       "      <th>movieId</th>\n",
       "      <th>Score</th>\n",
       "      <th>title</th>\n",
       "      <th>genres</th>\n",
       "    </tr>\n",
       "  </thead>\n",
       "  <tbody>\n",
       "    <tr>\n",
       "      <th>4716</th>\n",
       "      <td>2798</td>\n",
       "      <td>2.746762</td>\n",
       "      <td>Problem Child (1990)</td>\n",
       "      <td>Children|Comedy</td>\n",
       "    </tr>\n",
       "    <tr>\n",
       "      <th>449</th>\n",
       "      <td>65</td>\n",
       "      <td>2.727629</td>\n",
       "      <td>Bio-Dome (1996)</td>\n",
       "      <td>Comedy</td>\n",
       "    </tr>\n",
       "    <tr>\n",
       "      <th>1385</th>\n",
       "      <td>1499</td>\n",
       "      <td>2.713827</td>\n",
       "      <td>Anaconda (1997)</td>\n",
       "      <td>Action|Adventure|Thriller</td>\n",
       "    </tr>\n",
       "    <tr>\n",
       "      <th>1389</th>\n",
       "      <td>1556</td>\n",
       "      <td>2.691316</td>\n",
       "      <td>Speed 2: Cruise Control (1997)</td>\n",
       "      <td>Action|Romance|Thriller</td>\n",
       "    </tr>\n",
       "    <tr>\n",
       "      <th>571</th>\n",
       "      <td>435</td>\n",
       "      <td>2.674361</td>\n",
       "      <td>Coneheads (1993)</td>\n",
       "      <td>Comedy|Sci-Fi</td>\n",
       "    </tr>\n",
       "    <tr>\n",
       "      <th>1724</th>\n",
       "      <td>5313</td>\n",
       "      <td>2.668778</td>\n",
       "      <td>The Scorpion King (2002)</td>\n",
       "      <td>Action|Adventure|Fantasy|Thriller</td>\n",
       "    </tr>\n",
       "    <tr>\n",
       "      <th>905</th>\n",
       "      <td>1882</td>\n",
       "      <td>2.660573</td>\n",
       "      <td>Godzilla (1998)</td>\n",
       "      <td>Action|Sci-Fi|Thriller</td>\n",
       "    </tr>\n",
       "    <tr>\n",
       "      <th>1390</th>\n",
       "      <td>1562</td>\n",
       "      <td>2.637831</td>\n",
       "      <td>Batman &amp; Robin (1997)</td>\n",
       "      <td>Action|Adventure|Fantasy|Thriller</td>\n",
       "    </tr>\n",
       "    <tr>\n",
       "      <th>661</th>\n",
       "      <td>2701</td>\n",
       "      <td>2.623198</td>\n",
       "      <td>Wild Wild West (1999)</td>\n",
       "      <td>Action|Comedy|Sci-Fi|Western</td>\n",
       "    </tr>\n",
       "    <tr>\n",
       "      <th>558</th>\n",
       "      <td>374</td>\n",
       "      <td>2.536425</td>\n",
       "      <td>Richie Rich (1994)</td>\n",
       "      <td>Children|Comedy</td>\n",
       "    </tr>\n",
       "  </tbody>\n",
       "</table>\n",
       "</div>"
      ],
      "text/plain": [
       "      movieId     Score                           title  \\\n",
       "4716     2798  2.746762            Problem Child (1990)   \n",
       "449        65  2.727629                 Bio-Dome (1996)   \n",
       "1385     1499  2.713827                 Anaconda (1997)   \n",
       "1389     1556  2.691316  Speed 2: Cruise Control (1997)   \n",
       "571       435  2.674361                Coneheads (1993)   \n",
       "1724     5313  2.668778        The Scorpion King (2002)   \n",
       "905      1882  2.660573                 Godzilla (1998)   \n",
       "1390     1562  2.637831           Batman & Robin (1997)   \n",
       "661      2701  2.623198           Wild Wild West (1999)   \n",
       "558       374  2.536425              Richie Rich (1994)   \n",
       "\n",
       "                                 genres  \n",
       "4716                    Children|Comedy  \n",
       "449                              Comedy  \n",
       "1385          Action|Adventure|Thriller  \n",
       "1389            Action|Romance|Thriller  \n",
       "571                       Comedy|Sci-Fi  \n",
       "1724  Action|Adventure|Fantasy|Thriller  \n",
       "905              Action|Sci-Fi|Thriller  \n",
       "1390  Action|Adventure|Fantasy|Thriller  \n",
       "661        Action|Comedy|Sci-Fi|Western  \n",
       "558                     Children|Comedy  "
      ]
     },
     "execution_count": 27,
     "metadata": {},
     "output_type": "execute_result"
    }
   ],
   "source": [
    "sdf.sort_values(by='Score', ascending=False).tail(10)"
   ]
  }
 ],
 "metadata": {
  "kernelspec": {
   "display_name": "Python 3",
   "language": "python",
   "name": "python3"
  },
  "language_info": {
   "codemirror_mode": {
    "name": "ipython",
    "version": 3
   },
   "file_extension": ".py",
   "mimetype": "text/x-python",
   "name": "python",
   "nbconvert_exporter": "python",
   "pygments_lexer": "ipython3",
   "version": "3.6.6"
  }
 },
 "nbformat": 4,
 "nbformat_minor": 2
}
