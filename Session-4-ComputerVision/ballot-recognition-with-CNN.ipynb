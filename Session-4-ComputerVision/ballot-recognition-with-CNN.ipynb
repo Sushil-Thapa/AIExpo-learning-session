{
 "cells": [
  {
   "cell_type": "markdown",
   "metadata": {},
   "source": [
    "# AIExpo Learning Session #04\n",
    "### COMPUTER VISION  \n",
    "by [Sushil Thapa](www.thapasushil.com.np) / [Github](https://github.com/Sushil-Thapa/AIExpo-learning-session.git)"
   ]
  },
  {
   "cell_type": "markdown",
   "metadata": {},
   "source": [
    "## Introduction\n",
    "\n",
    "In this tutorial we will implement a simple Convolutional Neural Network in Pytorch which has a classification accuracy of about 99%, or more if you make some of the suggested exercises.  \n",
    "\n",
    "### Comvolutional Neural Network (CNN)\n",
    "\n",
    "Convolutional Networks work by moving small filters across the input image. This means the filters are re-used for recognizing patterns throughout the entire input image. This makes the Convolutional Networks much more powerful than Fully-Connected networks with the same number of variables. This in turn makes the Convolutional Networks faster to train.\n",
    "\n",
    "#### Flowchart\n",
    "<img src=\"assets/01_network_flowchart.png\"></img>"
   ]
  },
  {
   "cell_type": "markdown",
   "metadata": {},
   "source": [
    "## Imports"
   ]
  },
  {
   "cell_type": "code",
   "execution_count": 1,
   "metadata": {},
   "outputs": [
    {
     "name": "stdout",
     "output_type": "stream",
     "text": [
      "Device cuda:0\n"
     ]
    }
   ],
   "source": [
    "import torch\n",
    "\n",
    "# Setting seeds and device\n",
    "torch.manual_seed(42)\n",
    "device = torch.device('cuda:0' if torch.cuda.is_available() else 'cpu')\n",
    "print(\"Device {}\".format(device))\n",
    "\n",
    "# Input Image Dimensions\n",
    "IMG_WIDTH = 425\n",
    "IMG_HEIGHT = 618\n",
    "\n",
    "batch_size = 32\n"
   ]
  },
  {
   "cell_type": "markdown",
   "metadata": {},
   "source": [
    "## Building Dataset"
   ]
  },
  {
   "cell_type": "markdown",
   "metadata": {},
   "source": [
    "<img src=\"assets/sample.jpeg\"></img>"
   ]
  },
  {
   "cell_type": "code",
   "execution_count": 2,
   "metadata": {},
   "outputs": [],
   "source": [
    "import os\n",
    "BASE_DIR=os.path.abspath(\"./\")\n",
    "DATA_DIR=os.path.join(BASE_DIR, \"data\")\n",
    "\n",
    "# Specify Dataset paths for later use\n",
    "# Alternative: stratified train-test split\n",
    "DATA = {\n",
    "    'train': {\n",
    "        'data_dir' : os.path.join(DATA_DIR, \"Train/trainset\"),\n",
    "        'labels' : os.path.join(DATA_DIR,\"Train/trainset_exp.csv\")\n",
    "    },\n",
    "    'val': {\n",
    "        'data_dir' : os.path.join(DATA_DIR, \"Val/valset\"),\n",
    "        'labels' : os.path.join(DATA_DIR,\"Val/valset.csv\")\n",
    "    },\n",
    "    'test': {\n",
    "        'data_dir' : os.path.join(DATA_DIR, \"Test/testset\"),\n",
    "        'labels' : os.path.join(DATA_DIR,\"Test/testset.csv\")\n",
    "     }\n",
    "}\n"
   ]
  },
  {
   "cell_type": "code",
   "execution_count": 3,
   "metadata": {},
   "outputs": [],
   "source": [
    "import cv2\n",
    "import numpy as np\n",
    "import pandas as pd\n",
    "from torch.utils.data import Dataset, DataLoader\n",
    "\n",
    "# Class for building pytorch datasets\n",
    "class BallotDataSet(Dataset):\n",
    "    def __init__(self, csv_file, root_dir, transform=None):\n",
    "        self.data = pd.read_csv(csv_file, index_col=None)\n",
    "        self.root_dir = root_dir\n",
    "        self.transform = transform\n",
    "\n",
    "    def __len__(self):\n",
    "        return len(self.data)\n",
    "\n",
    "    def __getitem__(self, item):\n",
    "        row = self.data.iloc[item]\n",
    "        img = cv2.imread(os.path.join(self.root_dir, row['Data']))\n",
    "        img = np.moveaxis(img, -1, 0)\n",
    "        img = torch.from_numpy(img).float()\n",
    "        label = row['Label']\n",
    "        label = torch.tensor(label).long()\n",
    "\n",
    "        return {\"image\":img, \"label\": label}"
   ]
  },
  {
   "cell_type": "code",
   "execution_count": 4,
   "metadata": {},
   "outputs": [
    {
     "name": "stdout",
     "output_type": "stream",
     "text": [
      "train image size: 4800\n",
      "val image size: 240\n",
      "test image size: 2609\n"
     ]
    }
   ],
   "source": [
    "# Creating torch dataset\n",
    "dataset_types = ['train', 'val', 'test']\n",
    "datasets = {x: BallotDataSet(DATA[x]['labels'], DATA[x]['data_dir'])\n",
    "                  for x in dataset_types}\n",
    "\n",
    "# Building torch dataloader to iterate dataset for each iteration\n",
    "data = {x: torch.utils.data.DataLoader(datasets[x], batch_size=batch_size,\n",
    "                                              shuffle=True, num_workers=2)\n",
    "              for x in dataset_types}\n",
    "\n",
    "# Exploring the sizes of datasets\n",
    "dataset_sizes = {x: len(datasets[x]) for x in dataset_types}\n",
    "_ = [print(\"{} image size:\".format(x), dataset_sizes[x]) for x in dataset_types]"
   ]
  },
  {
   "cell_type": "markdown",
   "metadata": {},
   "source": [
    "## Building network and model"
   ]
  },
  {
   "cell_type": "code",
   "execution_count": 5,
   "metadata": {},
   "outputs": [],
   "source": [
    "# Setting up Hyperparameters\n",
    "N_EPOCHS = 10\n",
    "N_CHANNELS = 3\n",
    "\n",
    "lr = 0.00005"
   ]
  },
  {
   "cell_type": "markdown",
   "metadata": {},
   "source": [
    "# Building a simple CNN model"
   ]
  },
  {
   "cell_type": "code",
   "execution_count": 6,
   "metadata": {},
   "outputs": [],
   "source": [
    "import torch.nn as nn\n",
    "import torch.nn.functional as F\n",
    "\n",
    "\n",
    "class ConvNet(nn.Module):\n",
    "    def __init__(self):\n",
    "        super().__init__()\n",
    "        self.num_maxpool = 3\n",
    "        self.conv1 =  nn.Conv2d(3, 8, kernel_size=5, padding=2)\n",
    "        self.maxpool = nn.MaxPool2d(2,2)\n",
    "        self.conv2 = nn.Conv2d(8, 16, kernel_size=5, padding=2)\n",
    "        self.conv3 = nn.Conv2d(16, 32, kernel_size=5, padding=2)\n",
    "\n",
    "        self.in_linear = (IMG_HEIGHT // 2**self.num_maxpool) * (IMG_WIDTH //2**self.num_maxpool)\n",
    "\n",
    "        self.fc_1  = nn.Linear(self.in_linear * 32, 1024)\n",
    "        self.fc_2  = nn.Linear(1024,48) \n",
    "\n",
    "    def forward(self, x):\n",
    "        x = self.maxpool(x)\n",
    "        x = self.conv1(x)\n",
    "        x = F.relu(x)\n",
    "        x = self.maxpool(x)\n",
    "        x = F.relu(self.conv2(x))\n",
    "        x = self.maxpool(x)\n",
    "        x = F.relu(self.conv3(x))\n",
    "        x = x.view(-1, self.in_linear * 32)\n",
    "        x = F.leaky_relu(self.fc_1(x), 0.2)\n",
    "        x = self.fc_2(x)\n",
    "        return x"
   ]
  },
  {
   "cell_type": "code",
   "execution_count": 7,
   "metadata": {},
   "outputs": [
    {
     "name": "stdout",
     "output_type": "stream",
     "text": [
      "ConvNet(\n",
      "  (conv1): Conv2d(3, 8, kernel_size=(5, 5), stride=(1, 1), padding=(2, 2))\n",
      "  (maxpool): MaxPool2d(kernel_size=2, stride=2, padding=0, dilation=1, ceil_mode=False)\n",
      "  (conv2): Conv2d(8, 16, kernel_size=(5, 5), stride=(1, 1), padding=(2, 2))\n",
      "  (conv3): Conv2d(16, 32, kernel_size=(5, 5), stride=(1, 1), padding=(2, 2))\n",
      "  (fc_1): Linear(in_features=130592, out_features=1024, bias=True)\n",
      "  (fc_2): Linear(in_features=1024, out_features=48, bias=True)\n",
      ")\n"
     ]
    }
   ],
   "source": [
    "model = ConvNet().to(device)\n",
    "print(model)"
   ]
  },
  {
   "cell_type": "markdown",
   "metadata": {},
   "source": [
    "## Specifying optimizer and loss function"
   ]
  },
  {
   "cell_type": "markdown",
   "metadata": {},
   "source": [
    "\n",
    "optimizer = torch.optim.Adam(model.parameters(), lr=lr)\n",
    "\n",
    "loss_function = torch.nn.CrossEntropyLoss()"
   ]
  },
  {
   "cell_type": "code",
   "execution_count": 8,
   "metadata": {},
   "outputs": [],
   "source": [
    "## Imports for training utilities\n",
    "from datetime import datetime\n",
    "import time\n",
    "from torchsummary import summary\n",
    "from tqdm import tqdm\n",
    "\n",
    "from tensorboardX import SummaryWriter\n",
    "writer = SummaryWriter(os.path.join(\"data\",\"out\",\"tb\",\"aiexpo_{}\".format(int(time.time()))))\n"
   ]
  },
  {
   "cell_type": "code",
   "execution_count": 9,
   "metadata": {},
   "outputs": [],
   "source": [
    "optimizer = torch.optim.Adam(model.parameters(), lr=lr)\n",
    "\n",
    "loss_function = torch.nn.CrossEntropyLoss()"
   ]
  },
  {
   "cell_type": "markdown",
   "metadata": {},
   "source": [
    "# Training the model"
   ]
  },
  {
   "cell_type": "code",
   "execution_count": 10,
   "metadata": {},
   "outputs": [],
   "source": [
    "def train():\n",
    "    summary(model, (N_CHANNELS, IMG_HEIGHT, IMG_WIDTH))\n",
    "    print(\"Training Started at: {}\".format(datetime.now()))\n",
    "    for i in range(N_EPOCHS):\n",
    "        model.train()\n",
    "        running_loss = 0\n",
    "        total_len = 0\n",
    "        pbar = tqdm(total=len(data['train']))\n",
    "        for iteration, batch_set in enumerate(data['train']):\n",
    "\n",
    "\n",
    "            inputs = batch_set[\"image\"].to(device)\n",
    "            outputs = batch_set[\"label\"].to(device)\n",
    "\n",
    "            predictions = model(inputs)\n",
    "\n",
    "            optimizer.zero_grad()\n",
    "\n",
    "            loss = loss_function(predictions, outputs)\n",
    "            loss.backward()\n",
    "\n",
    "\n",
    "            optimizer.step()\n",
    "\n",
    "            pbar.update()\n",
    "\n",
    "        pbar.close()\n",
    "        \n",
    "        print(\"Running evaluation on datasets.\")\n",
    "        train_loss, train_accuracy = test(data['train'])\n",
    "        \n",
    "        print(\"Running evaluation on Validation dataset.\")\n",
    "        val_loss, val_accuracy = test(data['val'])\n",
    "\n",
    "        print(datetime.now())\n",
    "\n",
    "        writer.add_scalars('Loss', {'train':train_loss, 'val':val_loss}, i+1)\n",
    "        writer.add_scalars('Accuracy', {'train':train_accuracy, 'val':val_accuracy}, i+1)\n",
    "\n",
    "        print(\"Epoch: {}-> Train Loss: {:.4f}, Train Accuracy: {:.4f}\".format(i+1, train_loss, train_accuracy))\n",
    "        print(\"\\t   Val Loss: {:.4f}, Val Accuracy: {:.4f}\".format(val_loss, val_accuracy))"
   ]
  },
  {
   "cell_type": "code",
   "execution_count": 11,
   "metadata": {},
   "outputs": [],
   "source": [
    "def test(dataset):\n",
    "    model.eval()\n",
    "    running_loss = 0\n",
    "    total_len = 0\n",
    "    correct = 0\n",
    "    with torch.no_grad():\n",
    "        for batch_set in dataset:\n",
    "            inputs = batch_set[\"image\"].to(device)\n",
    "            outputs = batch_set[\"label\"].to(device)\n",
    "\n",
    "            predictions = model(inputs)\n",
    "\n",
    "            loss = loss_function(predictions, outputs)\n",
    "\n",
    "            running_loss += loss.item()\n",
    "            total_len += len(inputs)\n",
    "\n",
    "            _, predicted = torch.max(predictions.data, 1)\n",
    "            correct += (predicted == outputs).sum().item()\n",
    "\n",
    "    return running_loss/total_len, correct/total_len * 100"
   ]
  },
  {
   "cell_type": "markdown",
   "metadata": {},
   "source": [
    "## Running the training"
   ]
  },
  {
   "cell_type": "code",
   "execution_count": 12,
   "metadata": {},
   "outputs": [
    {
     "name": "stderr",
     "output_type": "stream",
     "text": [
      "  0%|          | 0/150 [00:00<?, ?it/s]"
     ]
    },
    {
     "name": "stdout",
     "output_type": "stream",
     "text": [
      "----------------------------------------------------------------\n",
      "        Layer (type)               Output Shape         Param #\n",
      "================================================================\n",
      "         MaxPool2d-1          [-1, 3, 309, 212]               0\n",
      "            Conv2d-2          [-1, 8, 309, 212]             608\n",
      "         MaxPool2d-3          [-1, 8, 154, 106]               0\n",
      "            Conv2d-4         [-1, 16, 154, 106]           3,216\n",
      "         MaxPool2d-5           [-1, 16, 77, 53]               0\n",
      "            Conv2d-6           [-1, 32, 77, 53]          12,832\n",
      "            Linear-7                 [-1, 1024]     133,727,232\n",
      "            Linear-8                   [-1, 48]          49,200\n",
      "================================================================\n",
      "Total params: 133,793,088\n",
      "Trainable params: 133,793,088\n",
      "Non-trainable params: 0\n",
      "----------------------------------------------------------------\n",
      "Input size (MB): 3.01\n",
      "Forward/backward pass size (MB): 9.99\n",
      "Params size (MB): 510.38\n",
      "Estimated Total Size (MB): 523.38\n",
      "----------------------------------------------------------------\n",
      "Training Started at: 2019-08-24 13:26:09.888814\n"
     ]
    },
    {
     "name": "stderr",
     "output_type": "stream",
     "text": [
      "100%|██████████| 150/150 [00:22<00:00,  6.52it/s]"
     ]
    },
    {
     "name": "stdout",
     "output_type": "stream",
     "text": [
      "Running evaluation on datasets.\n"
     ]
    },
    {
     "name": "stderr",
     "output_type": "stream",
     "text": [
      "\n"
     ]
    },
    {
     "name": "stdout",
     "output_type": "stream",
     "text": [
      "Running evaluation on Validation dataset.\n"
     ]
    },
    {
     "name": "stderr",
     "output_type": "stream",
     "text": [
      "  0%|          | 0/150 [00:00<?, ?it/s]"
     ]
    },
    {
     "name": "stdout",
     "output_type": "stream",
     "text": [
      "2019-08-24 13:26:47.706275\n",
      "Epoch: 1-> Train Loss: 0.1207, Train Accuracy: 2.2917\n",
      "\t   Val Loss: 0.1292, Val Accuracy: 2.0833\n"
     ]
    },
    {
     "name": "stderr",
     "output_type": "stream",
     "text": [
      "100%|██████████| 150/150 [00:22<00:00,  6.54it/s]"
     ]
    },
    {
     "name": "stdout",
     "output_type": "stream",
     "text": [
      "Running evaluation on datasets.\n"
     ]
    },
    {
     "name": "stderr",
     "output_type": "stream",
     "text": [
      "\n"
     ]
    },
    {
     "name": "stdout",
     "output_type": "stream",
     "text": [
      "Running evaluation on Validation dataset.\n"
     ]
    },
    {
     "name": "stderr",
     "output_type": "stream",
     "text": [
      "  0%|          | 0/150 [00:00<?, ?it/s]"
     ]
    },
    {
     "name": "stdout",
     "output_type": "stream",
     "text": [
      "2019-08-24 13:27:25.184912\n",
      "Epoch: 2-> Train Loss: 0.1140, Train Accuracy: 10.4583\n",
      "\t   Val Loss: 0.1232, Val Accuracy: 8.3333\n"
     ]
    },
    {
     "name": "stderr",
     "output_type": "stream",
     "text": [
      "100%|██████████| 150/150 [00:22<00:00,  6.53it/s]"
     ]
    },
    {
     "name": "stdout",
     "output_type": "stream",
     "text": [
      "Running evaluation on datasets.\n"
     ]
    },
    {
     "name": "stderr",
     "output_type": "stream",
     "text": [
      "\n"
     ]
    },
    {
     "name": "stdout",
     "output_type": "stream",
     "text": [
      "Running evaluation on Validation dataset.\n"
     ]
    },
    {
     "name": "stderr",
     "output_type": "stream",
     "text": [
      "  0%|          | 0/150 [00:00<?, ?it/s]"
     ]
    },
    {
     "name": "stdout",
     "output_type": "stream",
     "text": [
      "2019-08-24 13:28:02.641379\n",
      "Epoch: 3-> Train Loss: 0.0114, Train Accuracy: 93.6458\n",
      "\t   Val Loss: 0.0128, Val Accuracy: 93.3333\n"
     ]
    },
    {
     "name": "stderr",
     "output_type": "stream",
     "text": [
      "100%|██████████| 150/150 [00:23<00:00,  6.51it/s]"
     ]
    },
    {
     "name": "stdout",
     "output_type": "stream",
     "text": [
      "Running evaluation on datasets.\n"
     ]
    },
    {
     "name": "stderr",
     "output_type": "stream",
     "text": [
      "\n"
     ]
    },
    {
     "name": "stdout",
     "output_type": "stream",
     "text": [
      "Running evaluation on Validation dataset.\n"
     ]
    },
    {
     "name": "stderr",
     "output_type": "stream",
     "text": [
      "  0%|          | 0/150 [00:00<?, ?it/s]"
     ]
    },
    {
     "name": "stdout",
     "output_type": "stream",
     "text": [
      "2019-08-24 13:28:40.216060\n",
      "Epoch: 4-> Train Loss: 0.0060, Train Accuracy: 97.9583\n",
      "\t   Val Loss: 0.0111, Val Accuracy: 95.8333\n"
     ]
    },
    {
     "name": "stderr",
     "output_type": "stream",
     "text": [
      "100%|██████████| 150/150 [00:23<00:00,  6.51it/s]"
     ]
    },
    {
     "name": "stdout",
     "output_type": "stream",
     "text": [
      "Running evaluation on datasets.\n"
     ]
    },
    {
     "name": "stderr",
     "output_type": "stream",
     "text": [
      "\n"
     ]
    },
    {
     "name": "stdout",
     "output_type": "stream",
     "text": [
      "Running evaluation on Validation dataset.\n"
     ]
    },
    {
     "name": "stderr",
     "output_type": "stream",
     "text": [
      "  0%|          | 0/150 [00:00<?, ?it/s]"
     ]
    },
    {
     "name": "stdout",
     "output_type": "stream",
     "text": [
      "2019-08-24 13:29:17.828955\n",
      "Epoch: 5-> Train Loss: 0.0023, Train Accuracy: 98.8333\n",
      "\t   Val Loss: 0.0053, Val Accuracy: 97.5000\n"
     ]
    },
    {
     "name": "stderr",
     "output_type": "stream",
     "text": [
      "100%|██████████| 150/150 [00:23<00:00,  6.51it/s]"
     ]
    },
    {
     "name": "stdout",
     "output_type": "stream",
     "text": [
      "Running evaluation on datasets.\n"
     ]
    },
    {
     "name": "stderr",
     "output_type": "stream",
     "text": [
      "\n"
     ]
    },
    {
     "name": "stdout",
     "output_type": "stream",
     "text": [
      "Running evaluation on Validation dataset.\n"
     ]
    },
    {
     "name": "stderr",
     "output_type": "stream",
     "text": [
      "  0%|          | 0/150 [00:00<?, ?it/s]"
     ]
    },
    {
     "name": "stdout",
     "output_type": "stream",
     "text": [
      "2019-08-24 13:29:55.690739\n",
      "Epoch: 6-> Train Loss: 0.0033, Train Accuracy: 96.4583\n",
      "\t   Val Loss: 0.0059, Val Accuracy: 95.8333\n"
     ]
    },
    {
     "name": "stderr",
     "output_type": "stream",
     "text": [
      "100%|██████████| 150/150 [00:23<00:00,  6.40it/s]"
     ]
    },
    {
     "name": "stdout",
     "output_type": "stream",
     "text": [
      "Running evaluation on datasets.\n"
     ]
    },
    {
     "name": "stderr",
     "output_type": "stream",
     "text": [
      "\n"
     ]
    },
    {
     "name": "stdout",
     "output_type": "stream",
     "text": [
      "Running evaluation on Validation dataset.\n"
     ]
    },
    {
     "name": "stderr",
     "output_type": "stream",
     "text": [
      "  0%|          | 0/150 [00:00<?, ?it/s]"
     ]
    },
    {
     "name": "stdout",
     "output_type": "stream",
     "text": [
      "2019-08-24 13:30:33.674798\n",
      "Epoch: 7-> Train Loss: 0.0010, Train Accuracy: 99.2083\n",
      "\t   Val Loss: 0.0056, Val Accuracy: 98.3333\n"
     ]
    },
    {
     "name": "stderr",
     "output_type": "stream",
     "text": [
      "100%|██████████| 150/150 [00:23<00:00,  6.50it/s]"
     ]
    },
    {
     "name": "stdout",
     "output_type": "stream",
     "text": [
      "Running evaluation on datasets.\n"
     ]
    },
    {
     "name": "stderr",
     "output_type": "stream",
     "text": [
      "\n"
     ]
    },
    {
     "name": "stdout",
     "output_type": "stream",
     "text": [
      "Running evaluation on Validation dataset.\n"
     ]
    },
    {
     "name": "stderr",
     "output_type": "stream",
     "text": [
      "  0%|          | 0/150 [00:00<?, ?it/s]"
     ]
    },
    {
     "name": "stdout",
     "output_type": "stream",
     "text": [
      "2019-08-24 13:31:11.437077\n",
      "Epoch: 8-> Train Loss: 0.0012, Train Accuracy: 99.0417\n",
      "\t   Val Loss: 0.0055, Val Accuracy: 96.6667\n"
     ]
    },
    {
     "name": "stderr",
     "output_type": "stream",
     "text": [
      "100%|██████████| 150/150 [00:23<00:00,  6.40it/s]"
     ]
    },
    {
     "name": "stdout",
     "output_type": "stream",
     "text": [
      "Running evaluation on datasets.\n"
     ]
    },
    {
     "name": "stderr",
     "output_type": "stream",
     "text": [
      "\n"
     ]
    },
    {
     "name": "stdout",
     "output_type": "stream",
     "text": [
      "Running evaluation on Validation dataset.\n"
     ]
    },
    {
     "name": "stderr",
     "output_type": "stream",
     "text": [
      "  0%|          | 0/150 [00:00<?, ?it/s]"
     ]
    },
    {
     "name": "stdout",
     "output_type": "stream",
     "text": [
      "2019-08-24 13:31:49.404187\n",
      "Epoch: 9-> Train Loss: 0.0016, Train Accuracy: 98.4583\n",
      "\t   Val Loss: 0.0064, Val Accuracy: 97.0833\n"
     ]
    },
    {
     "name": "stderr",
     "output_type": "stream",
     "text": [
      "100%|██████████| 150/150 [00:23<00:00,  6.50it/s]"
     ]
    },
    {
     "name": "stdout",
     "output_type": "stream",
     "text": [
      "Running evaluation on datasets.\n"
     ]
    },
    {
     "name": "stderr",
     "output_type": "stream",
     "text": [
      "\n"
     ]
    },
    {
     "name": "stdout",
     "output_type": "stream",
     "text": [
      "Running evaluation on Validation dataset.\n",
      "2019-08-24 13:32:26.984024\n",
      "Epoch: 10-> Train Loss: 0.0005, Train Accuracy: 99.4792\n",
      "\t   Val Loss: 0.0094, Val Accuracy: 97.9167\n"
     ]
    }
   ],
   "source": [
    "train()"
   ]
  },
  {
   "cell_type": "markdown",
   "metadata": {},
   "source": [
    "## Running evaluation on Test dataset."
   ]
  },
  {
   "cell_type": "code",
   "execution_count": 13,
   "metadata": {},
   "outputs": [
    {
     "name": "stdout",
     "output_type": "stream",
     "text": [
      "Test Accuracy: 99.47916666666666\n"
     ]
    }
   ],
   "source": [
    "_, test_accuracy = test(data['train'])\n",
    "print(\"Test Accuracy: {}\".format(test_accuracy))"
   ]
  },
  {
   "cell_type": "markdown",
   "metadata": {},
   "source": [
    "### Testing an image"
   ]
  },
  {
   "cell_type": "code",
   "execution_count": 14,
   "metadata": {},
   "outputs": [
    {
     "data": {
      "text/plain": [
       "<matplotlib.image.AxesImage at 0x7f5c2c83bcc0>"
      ]
     },
     "execution_count": 14,
     "metadata": {},
     "output_type": "execute_result"
    },
    {
     "data": {
      "image/png": "[encoded data removed]",
      "text/plain": [
       "<Figure size 432x288 with 1 Axes>"
      ]
     },
     "metadata": {
      "needs_background": "light"
     },
     "output_type": "display_data"
    }
   ],
   "source": [
    "import matplotlib.pyplot as plt\n",
    "%matplotlib inline\n",
    "# sample = next(iter(data['test']))\n",
    "# rand_num = np.random.randint(0, len(sample))\n",
    "sample = datasets['test'][0]\n",
    "img = sample['image'].squeeze(0).numpy().astype(int).transpose(1,2,0)\n",
    "\n",
    "plt.title(sample['label'].item(), y=-0.2)\n",
    "plt.imshow(img, cmap=\"gray\")\n",
    "# some preview in test image.\n"
   ]
  },
  {
   "cell_type": "code",
   "execution_count": 15,
   "metadata": {},
   "outputs": [],
   "source": [
    "def predict(model, img):\n",
    "    model = model.eval()\n",
    "    img = img.to(device)\n",
    "    model = model.to(device)\n",
    "    with torch.no_grad():\n",
    "        prediction = model(img)\n",
    "        _, prediction = torch.max(prediction.data, 1)\n",
    "        return prediction.item()"
   ]
  },
  {
   "cell_type": "code",
   "execution_count": 16,
   "metadata": {},
   "outputs": [
    {
     "name": "stdout",
     "output_type": "stream",
     "text": [
      "Actual Class:10, Prediction:10\n"
     ]
    }
   ],
   "source": [
    "# some preview in test image.\n",
    "\n",
    "prediction = predict(model, sample['image'].unsqueeze(0))\n",
    "print(\"Actual Class:{}, Prediction:{}\".format(sample['label'],prediction))"
   ]
  },
  {
   "cell_type": "code",
   "execution_count": null,
   "metadata": {},
   "outputs": [],
   "source": []
  }
 ],
 "metadata": {
  "kernelspec": {
   "display_name": "BallotClassification",
   "language": "python",
   "name": "ballot"
  },
  "language_info": {
   "codemirror_mode": {
    "name": "ipython",
    "version": 3
   },
   "file_extension": ".py",
   "mimetype": "text/x-python",
   "name": "python",
   "nbconvert_exporter": "python",
   "pygments_lexer": "ipython3",
   "version": "3.5.2"
  }
 },
 "nbformat": 4,
 "nbformat_minor": 2
}
